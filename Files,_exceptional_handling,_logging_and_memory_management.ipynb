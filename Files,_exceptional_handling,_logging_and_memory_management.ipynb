{
  "nbformat": 4,
  "nbformat_minor": 0,
  "metadata": {
    "colab": {
      "provenance": []
    },
    "kernelspec": {
      "name": "python3",
      "display_name": "Python 3"
    },
    "language_info": {
      "name": "python"
    }
  },
  "cells": [
    {
      "cell_type": "code",
      "execution_count": null,
      "metadata": {
        "id": "UKMVmD6Y-7EL"
      },
      "outputs": [],
      "source": []
    },
    {
      "cell_type": "markdown",
      "source": [
        "#Files, exceptional handling, logging and memory management"
      ],
      "metadata": {
        "id": "miQQqyqW--jT"
      }
    },
    {
      "cell_type": "code",
      "source": [],
      "metadata": {
        "id": "yHSR7tAS_EVJ"
      },
      "execution_count": null,
      "outputs": []
    },
    {
      "cell_type": "markdown",
      "source": [
        "Q1. What is difference between interpreted and compiled languages?\n",
        "  - Interpreted languages: Code is executed line by line at runtime, without prior conversion to machine code.\n",
        "Example: Python, JavaScript.\n",
        "Compiled languages: Code is translated into machine code before execution, leading to faster performance.\n",
        "\n",
        "Q2. What is exception handling in Python?\n",
        "  - Python uses try, except, finally, and raise to manage runtime errors gracefully, preventing crashes and enabling smooth execution.\n",
        "\n",
        "Q3. What is Purpose of the finally block in exception handling?\n",
        "  - Regardless of whether an exception occurs, the finally block ensures certain code (like closing files or releasing resources) always runs.\n",
        "\n",
        "Q4. What is Logging in Python?\n",
        "  - The logging module records events, errors, and debugging information. It provides multiple log levels like DEBUG, INFO, WARNING, ERROR, and CRITICAL.\n",
        "\n",
        "Q5. What is significance of the __del__ method in Python?\n",
        "The __del__ method is Python’s destructor, automatically called when an object is deleted. It’s useful for cleanup actions, like closing a database connection.\n",
        "\n",
        "Q6. What is difference between import and from ... import in Python\n",
        "import module loads the entire module.\n",
        "from module import function loads specific functions/classes, optimizing memory usage.\n",
        "\n",
        "Q7. How can you handle multiple exceptions in Python?\n",
        "You can:\n",
        "Use separate except blocks.\n",
        "Handle multiple exceptions in one block using (except (TypeError, ValueError) as e).\n",
        "Use a generic except Exception: to catch all exceptions (use carefully).\n",
        "\n",
        "Q8. What is the purpose of the with statement when handling files in Python?\n",
        "The with statement automatically closes a file after execution, preventing memory leaks:\n",
        "with open('file.txt', 'r') as f:\n",
        "    content = f.read()\n",
        "\n",
        "Q9. What is the difference between multithreading and multiprocessing?\n",
        "Multithreading: Runs multiple threads within a single process, sharing memory (best for I/O-bound tasks).\n",
        "Multiprocessing: Uses separate processes with independent memory (better for CPU-intensive tasks).\n",
        "\n",
        "Q10. What are the advantages of using logging in a program?\n",
        "Debugging without print statements.\n",
        "Systematic error tracking.\n",
        "Monitors application behavior over time.\n",
        "\n",
        "Q11. What is memory management in Python?\n",
        "Python uses automatic memory management, meaning it allocates and deallocates memory dynamically. It relies on garbage collection and reference counting to free unused memory.\n",
        "\n",
        "Q12. What are the basic steps involved in exception handling in Python?\n",
        "1.\tUse a try block to write code that may raise an exception.\n",
        "2.\tUse an except block to catch and handle exceptions.\n",
        "3.\tOptionally, use a finally block to execute cleanup code.\n",
        "\n",
        "Q13. Why is memory management important in Python?\n",
        "Proper memory management prevents memory leaks, optimizes performance, and ensures efficient use of system resources. It helps in handling large datasets and long-running applications.\n",
        "\n",
        "Q14. What is the role of try and except in exception handling?\n",
        "try: Contains code that may trigger an exception.\n",
        "except: Handles specific or generic exceptions to prevent program crashes.\n",
        "\n",
        "Q15. How does Python's garbage collection system work?\n",
        "Python uses automatic garbage collection, primarily through:\n",
        "Reference counting: Objects with zero references are deleted.\n",
        "Generational garbage collection: Objects are classified into generations for efficient cleanup.\n",
        "\n",
        "Q16. What is the purpose of the else block in exception handling?\n",
        "The else block executes only if no exceptions occur, making code flow more predictable.\n",
        "\n",
        "Q17. What is the purpose of the else block in exception handling?\n",
        "Python's logging module has these levels:\n",
        "DEBUG - Detailed information for debugging.\n",
        "INFO - General application flow.\n",
        "WARNING - Non-critical issues.\n",
        "ERROR - Serious errors.\n",
        "CRITICAL - Severe errors causing program failure.\n",
        "\n",
        "Q18. What is the difference between os.fork() and multiprocessing in Python\n",
        "os.fork(): Creates a child process by copying the current process (only available on Unix-like systems).\n",
        "multiprocessing: A cross-platform module that manages independent processes, better suited for parallel execution.\n",
        "\n",
        "Q19. What is the importance of closing a file in Python?\n",
        "Closing files releases system resources, prevents memory leaks, and ensures data is properly written before closing.\n",
        "\n",
        "Q20. What is the difference between file.read() and file.readline() in Python?\n",
        "file.read(): Reads the entire file content.\n",
        "file.readline(): Reads one line at a time.\n",
        "\n",
        "Q21. What is the logging module in Python used for?\n",
        "It allows tracking events, debugging issues, and storing error messages systematically instead of using print statements.\n",
        "\n",
        "Q22. What is the os module in Python used for in file handling?\n",
        "Python’s os module manages files and directories, allowing operations like creating, deleting, and navigating directories.\n",
        "\n",
        "Q23. What are the challenges associated with memory management in Python?\n",
        "Reference cycles: Objects referencing each other may not be immediately cleaned.\n",
        "Memory fragmentation: Frequent allocations can cause inefficiencies.\n",
        "Global Interpreter Lock (GIL): Can affect multi-threaded applications.\n",
        "\n",
        "Q24. How to raise an exception manually in Python?\n",
        "Use the raise statement:\n",
        "raise ValueError(\"Invalid input\")\n",
        "\n",
        "Q25. Why is it important to use multithreading in certain applications\n",
        "Multithreading enhances performance for I/O-bound tasks like web scraping or network\n"
      ],
      "metadata": {
        "id": "TPWriykv_RRd"
      }
    },
    {
      "cell_type": "code",
      "source": [],
      "metadata": {
        "id": "-TG54iJyAI7H"
      },
      "execution_count": null,
      "outputs": []
    },
    {
      "cell_type": "markdown",
      "source": [
        "#Practical Work"
      ],
      "metadata": {
        "id": "VanjoJjJAd1y"
      }
    },
    {
      "cell_type": "code",
      "source": [
        "#Q1.  How can you open a file for writing in Python and write a string to it?\n",
        "with open(\"example.txt\", \"w\") as file:\n",
        "    file.write(\"Hello, this is a test string!\")"
      ],
      "metadata": {
        "id": "ruUrQsgqAgxH"
      },
      "execution_count": 1,
      "outputs": []
    },
    {
      "cell_type": "code",
      "source": [
        "#Q2.  Write a Python program to read the contents of a file and print each lineF\n",
        "with open(\"example.txt\", \"r\") as file:\n",
        "    for line in file:\n",
        "        print(line.strip())"
      ],
      "metadata": {
        "colab": {
          "base_uri": "https://localhost:8080/"
        },
        "id": "p8g3DVdTAryZ",
        "outputId": "94c630f8-cf4e-4160-8a6b-0464cce82d96"
      },
      "execution_count": 2,
      "outputs": [
        {
          "output_type": "stream",
          "name": "stdout",
          "text": [
            "Hello, this is a test string!\n"
          ]
        }
      ]
    },
    {
      "cell_type": "code",
      "source": [
        "# Q3. How would you handle a case where the file doesn't exist while trying to\n",
        "# open it for reading\n",
        "try:\n",
        "\n",
        "    with open(\"example.txt\", \"r\") as file:\n",
        "        for line in file:\n",
        "            print(line.strip())\n",
        "except FileNotFoundError:\n",
        "    print(\"Error: The file does not exist. Please check the filename and try again.\")"
      ],
      "metadata": {
        "colab": {
          "base_uri": "https://localhost:8080/"
        },
        "id": "MOHY6rs0A8D-",
        "outputId": "c13f130b-4d8e-4d25-b61d-3c4d2500e71f"
      },
      "execution_count": 4,
      "outputs": [
        {
          "output_type": "stream",
          "name": "stdout",
          "text": [
            "Hello, this is a test string!\n"
          ]
        }
      ]
    },
    {
      "cell_type": "code",
      "source": [
        "# Q4. Write a Python script that reads from one file and writes its content to\n",
        "# another file\n",
        "# Define source and destination file names\n",
        "source_file = \"source.txt\"\n",
        "destination_file = \"destination.txt\"\n",
        "\n",
        "try:\n",
        "    with open(source_file, \"r\") as source:\n",
        "        content = source.read()\n",
        "\n",
        "    with open(destination_file, \"w\") as destination:\n",
        "        destination.write(content)\n",
        "\n",
        "    print(f\"Contents of '{source_file}' have been successfully copied to '{destination_file}'.\")\n",
        "\n",
        "except FileNotFoundError:\n",
        "    print(f\"Error: '{source_file}' not found. Please check the filename and try again.\")\n",
        "except Exception as e:\n",
        "    print(f\"An unexpected error occurred: {e}\")"
      ],
      "metadata": {
        "colab": {
          "base_uri": "https://localhost:8080/"
        },
        "id": "RWCXdObBBK07",
        "outputId": "50df7341-f9c9-4912-ade1-b577becaef16"
      },
      "execution_count": 5,
      "outputs": [
        {
          "output_type": "stream",
          "name": "stdout",
          "text": [
            "Error: 'source.txt' not found. Please check the filename and try again.\n"
          ]
        }
      ]
    },
    {
      "cell_type": "code",
      "source": [
        "#Q5. How would you catch and handle division by zero error in Python\n",
        "try:\n",
        "    # Attempt to divide by zero\n",
        "    result = 10 / 0\n",
        "    print(result)\n",
        "except ZeroDivisionError:\n",
        "    print(\"Error: Division by zero is not allowed.\")"
      ],
      "metadata": {
        "colab": {
          "base_uri": "https://localhost:8080/"
        },
        "id": "rsRTsg6gBr_Q",
        "outputId": "e6e5a2c2-0f74-4625-8c01-dbb992f3c9c1"
      },
      "execution_count": 6,
      "outputs": [
        {
          "output_type": "stream",
          "name": "stdout",
          "text": [
            "Error: Division by zero is not allowed.\n"
          ]
        }
      ]
    },
    {
      "cell_type": "code",
      "source": [
        "# Q6. Write a Python program that logs an error message to a log file when a\n",
        "# division by zero exception occurs\n",
        "import logging\n",
        "\n",
        "# Configure logging to write to a file\n",
        "logging.basicConfig(filename=\"error.log\", level=logging.ERROR,\n",
        "                    format=\"%(asctime)s - %(levelname)s - %(message)s\")\n",
        "\n",
        "try:\n",
        "    numerator = int(input(\"Enter numerator: \"))\n",
        "    denominator = int(input(\"Enter denominator: \"))\n",
        "    result = numerator / denominator\n",
        "    print(f\"Result: {result}\")\n",
        "except ZeroDivisionError:\n",
        "    logging.error(\"Division by zero error occurred.\")\n",
        "    print(\"Error: Cannot divide by zero. Check error.log for details.\")\n",
        "except ValueError:\n",
        "    logging.error(\"Invalid input provided. Non-numeric value entered.\")\n",
        "    print(\"Error: Invalid input. Please enter numeric values.\")\n"
      ],
      "metadata": {
        "colab": {
          "base_uri": "https://localhost:8080/"
        },
        "id": "cTemHcvJB1D4",
        "outputId": "b6c5cd9e-1c8d-4a3c-870e-80e86d14c90a"
      },
      "execution_count": 7,
      "outputs": [
        {
          "output_type": "stream",
          "name": "stdout",
          "text": [
            "Enter numerator: 10\n",
            "Enter denominator: 20\n",
            "Result: 0.5\n"
          ]
        }
      ]
    },
    {
      "cell_type": "code",
      "source": [
        "# Q7. How do you log information at different levels (INFO, ERROR, WARNING) in\n",
        "# Python using the logging module\n",
        "import logging\n",
        "\n",
        "# Configure logging to write messages to a file\n",
        "logging.basicConfig(filename=\"app.log\", level=logging.DEBUG,\n",
        "                    format=\"%(asctime)s - %(levelname)s - %(message)s\")\n",
        "\n",
        "# Logging messages at different levels\n",
        "logging.debug(\"This is a debug message: Useful for diagnostic information.\")\n",
        "logging.info(\"This is an info message: General information about program execution.\")\n",
        "logging.warning(\"This is a warning message: Something might go wrong.\")\n",
        "logging.error(\"This is an error message: An issue has occurred.\")\n",
        "logging.critical(\"This is a critical message: Severe problem affecting execution.\")\n",
        "\n",
        "print(\"Logging complete. Check 'app.log' for details.\")"
      ],
      "metadata": {
        "colab": {
          "base_uri": "https://localhost:8080/"
        },
        "id": "_SuFyh3qCDgg",
        "outputId": "a3cccd78-c4aa-40a2-fe20-431d7565b0b1"
      },
      "execution_count": 8,
      "outputs": [
        {
          "output_type": "stream",
          "name": "stderr",
          "text": [
            "WARNING:root:This is a warning message: Something might go wrong.\n",
            "ERROR:root:This is an error message: An issue has occurred.\n",
            "CRITICAL:root:This is a critical message: Severe problem affecting execution.\n"
          ]
        },
        {
          "output_type": "stream",
          "name": "stdout",
          "text": [
            "Logging complete. Check 'app.log' for details.\n"
          ]
        }
      ]
    },
    {
      "cell_type": "code",
      "source": [
        "#Q8.  Write a program to handle a file opening error using exception handling\n",
        "try:\n",
        "    # Attempt to open a file that may not exist\n",
        "    with open(\"non_existent_file.txt\", \"r\") as file:\n",
        "        content = file.read()\n",
        "        print(content)\n",
        "except FileNotFoundError:\n",
        "    print(\"Error: The file does not exist. Please check the filename and try again.\")\n",
        "except PermissionError:\n",
        "    print(\"Error: You do not have permission to access this file.\")\n",
        "except Exception as e:\n",
        "    print(f\"An unexpected error occurred: {e}\")"
      ],
      "metadata": {
        "colab": {
          "base_uri": "https://localhost:8080/"
        },
        "id": "xsvkLNNZCUVz",
        "outputId": "9c4cfd5b-5d67-4906-9a45-b951e9304018"
      },
      "execution_count": 9,
      "outputs": [
        {
          "output_type": "stream",
          "name": "stdout",
          "text": [
            "Error: The file does not exist. Please check the filename and try again.\n"
          ]
        }
      ]
    },
    {
      "cell_type": "code",
      "source": [
        "# Q9. How can you read a file line by line and store its content in a list in\n",
        "# Python\n",
        "with open(\"example.txt\", \"r\") as file:\n",
        "    lines = file.readlines()\n",
        "print(lines)"
      ],
      "metadata": {
        "colab": {
          "base_uri": "https://localhost:8080/"
        },
        "id": "AOXgdg_ICiaa",
        "outputId": "5afdbe12-a2f9-4b99-b6b1-67a3b472a371"
      },
      "execution_count": 11,
      "outputs": [
        {
          "output_type": "stream",
          "name": "stdout",
          "text": [
            "['Hello, this is a test string!']\n"
          ]
        }
      ]
    },
    {
      "cell_type": "code",
      "source": [
        "#Q10.  How can you append data to an existing file in Python\n",
        "# Open the file in append mode\n",
        "with open(\"example.txt\", \"a\") as file:\n",
        "    file.write(\"\\nThis is a new line appended to the file.\")\n",
        "\n",
        "print(\"Data successfully appended!\")"
      ],
      "metadata": {
        "colab": {
          "base_uri": "https://localhost:8080/"
        },
        "id": "suvR4arLCvOB",
        "outputId": "4c9770e0-eea1-4574-abfc-c9a814ce1626"
      },
      "execution_count": 12,
      "outputs": [
        {
          "output_type": "stream",
          "name": "stdout",
          "text": [
            "Data successfully appended!\n"
          ]
        }
      ]
    },
    {
      "cell_type": "code",
      "source": [
        "# Q11. Write a Python program that uses a try-except block to handle an error\n",
        "# when attempting to access a dictionary key that doesn't exist\n",
        "# Sample dictionary\n",
        "data = {\"name\": \"Alice\", \"age\": 25, \"city\": \"New York\"}\n",
        "\n",
        "try:\n",
        "    value = data[\"country\"]\n",
        "    print(f\"Value: {value}\")\n",
        "except KeyError:\n",
        "    print(\"Error: The specified key does not exist in the dictionary.\")"
      ],
      "metadata": {
        "colab": {
          "base_uri": "https://localhost:8080/"
        },
        "id": "H97HAR8zC-6f",
        "outputId": "7999998d-094f-45f7-a6fc-ff6c9d8567fd"
      },
      "execution_count": 13,
      "outputs": [
        {
          "output_type": "stream",
          "name": "stdout",
          "text": [
            "Error: The specified key does not exist in the dictionary.\n"
          ]
        }
      ]
    },
    {
      "cell_type": "code",
      "source": [
        "# Q12. Write a program that demonstrates using multiple except blocks to handle\n",
        "# different types of exceptions\n",
        "try:\n",
        "    # Get user input for division\n",
        "    numerator = int(input(\"Enter numerator: \"))\n",
        "    denominator = int(input(\"Enter denominator: \"))\n",
        "\n",
        "    # Perform division\n",
        "    result = numerator / denominator\n",
        "    print(f\"Result: {result}\")\n",
        "\n",
        "    # Attempt to access an invalid dictionary key\n",
        "    data = {\"name\": \"Alice\", \"age\": 25}\n",
        "    print(data[\"country\"])  # This key does not exist\n",
        "\n",
        "except ZeroDivisionError:\n",
        "    print(\"Error: Division by zero is not allowed.\")\n",
        "except ValueError:\n",
        "    print(\"Error: Invalid input. Please enter numeric values.\")\n",
        "except KeyError:\n",
        "    print(\"Error: The specified key does not exist in the dictionary.\")\n",
        "except Exception as e:\n",
        "    print(f\"An unexpected error occurred: {e}\")\n"
      ],
      "metadata": {
        "colab": {
          "base_uri": "https://localhost:8080/"
        },
        "id": "q_HXXjyQDOZT",
        "outputId": "5cb67910-dc47-4a93-b326-89469d490f31"
      },
      "execution_count": 14,
      "outputs": [
        {
          "output_type": "stream",
          "name": "stdout",
          "text": [
            "Enter numerator: 1\n",
            "Enter denominator: 1000000000000000\n",
            "Result: 1e-15\n",
            "Error: The specified key does not exist in the dictionary.\n"
          ]
        }
      ]
    },
    {
      "cell_type": "code",
      "source": [
        "# Q13. How would you check if a file exists before attempting to read it in\n",
        "# Python\n",
        "import os\n",
        "\n",
        "file_name = \"example.txt\"\n",
        "\n",
        "if os.path.exists(file_name):\n",
        "    with open(file_name, \"r\") as file:\n",
        "        content = file.read()\n",
        "        print(content)\n",
        "else:\n",
        "    print(\"Error: The file does not exist.\")"
      ],
      "metadata": {
        "colab": {
          "base_uri": "https://localhost:8080/"
        },
        "id": "VhCrASLZDeMJ",
        "outputId": "84dbea29-b26d-4d01-84dc-ea329c959667"
      },
      "execution_count": 15,
      "outputs": [
        {
          "output_type": "stream",
          "name": "stdout",
          "text": [
            "Hello, this is a test string!\n",
            "This is a new line appended to the file.\n"
          ]
        }
      ]
    },
    {
      "cell_type": "code",
      "source": [
        "# Q14. Write a program that uses the logging module to log both informational\n",
        "# and error messages\n",
        "import logging\n",
        "\n",
        "# Configure logging settings\n",
        "logging.basicConfig(filename=\"app.log\", level=logging.DEBUG,\n",
        "                    format=\"%(asctime)s - %(levelname)s - %(message)s\")\n",
        "\n",
        "def divide_numbers(a, b):\n",
        "    try:\n",
        "        logging.info(f\"Attempting to divide {a} by {b}\")\n",
        "        result = a / b\n",
        "        logging.info(f\"Successful division: {result}\")\n",
        "        return result\n",
        "    except ZeroDivisionError:\n",
        "        logging.error(\"Error: Division by zero attempted!\")\n",
        "        return \"Error: Cannot divide by zero.\"\n",
        "    except Exception as e:\n",
        "        logging.error(f\"Unexpected error occurred: {e}\")\n",
        "        return f\"Error: {e}\"\n",
        "\n",
        "# Example usage\n",
        "print(divide_numbers(10, 2))   # Should log info messages\n",
        "print(divide_numbers(10, 0))   # Should log an error message\n",
        "\n",
        "print(\"Logging complete. Check 'app.log' for details.\")"
      ],
      "metadata": {
        "colab": {
          "base_uri": "https://localhost:8080/"
        },
        "id": "67dfrT94Dwsw",
        "outputId": "4c12ac8d-b4ad-48dc-947a-d52c0d59ac36"
      },
      "execution_count": 16,
      "outputs": [
        {
          "output_type": "stream",
          "name": "stderr",
          "text": [
            "ERROR:root:Error: Division by zero attempted!\n"
          ]
        },
        {
          "output_type": "stream",
          "name": "stdout",
          "text": [
            "5.0\n",
            "Error: Cannot divide by zero.\n",
            "Logging complete. Check 'app.log' for details.\n"
          ]
        }
      ]
    },
    {
      "cell_type": "code",
      "source": [
        "# Q15. Write a Python program that prints the content of a file and handles the\n",
        "# case when the file is empty\n",
        "try:\n",
        "    with open(\"example.txt\", \"r\") as file:\n",
        "        content = file.read()\n",
        "\n",
        "    if content.strip():  # .strip() removes any whitespace or newlines\n",
        "        print(\"File Contents:\\n\", content)\n",
        "    else:\n",
        "        print(\"The file is empty.\")\n",
        "\n",
        "except FileNotFoundError:\n",
        "    print(\"Error: The file does not exist. Please check the filename and try again.\")\n",
        "except Exception as e:\n",
        "    print(f\"An unexpected error occurred: {e}\")"
      ],
      "metadata": {
        "colab": {
          "base_uri": "https://localhost:8080/"
        },
        "id": "1X7P7sAQD-cx",
        "outputId": "a8e8e3d2-0fed-46b5-9a59-96e25542eeab"
      },
      "execution_count": 17,
      "outputs": [
        {
          "output_type": "stream",
          "name": "stdout",
          "text": [
            "File Contents:\n",
            " Hello, this is a test string!\n",
            "This is a new line appended to the file.\n"
          ]
        }
      ]
    },
    {
      "cell_type": "code",
      "source": [
        "# Q16. Demonstrate how to use memory profiling to check the memory usage of a\n",
        "# small program\n",
        "from memory_profiler import profile\n",
        "\n",
        "@profile\n",
        "def create_large_list():\n",
        "    numbers = [i for i in range(100000)]  # Creates a large list\n",
        "    return numbers\n",
        "\n",
        "if __name__ == \"__main__\":\n",
        "    create_large_list()"
      ],
      "metadata": {
        "colab": {
          "base_uri": "https://localhost:8080/",
          "height": 384
        },
        "id": "aVMPWu-QEK21",
        "outputId": "807690b7-c2db-4f19-e88f-ea3967831a11"
      },
      "execution_count": 18,
      "outputs": [
        {
          "output_type": "error",
          "ename": "ModuleNotFoundError",
          "evalue": "No module named 'memory_profiler'",
          "traceback": [
            "\u001b[0;31m---------------------------------------------------------------------------\u001b[0m",
            "\u001b[0;31mModuleNotFoundError\u001b[0m                       Traceback (most recent call last)",
            "\u001b[0;32m<ipython-input-18-67b699d0c68b>\u001b[0m in \u001b[0;36m<cell line: 0>\u001b[0;34m()\u001b[0m\n\u001b[1;32m      1\u001b[0m \u001b[0;31m# Q16. Demonstrate how to use memory profiling to check the memory usage of a\u001b[0m\u001b[0;34m\u001b[0m\u001b[0;34m\u001b[0m\u001b[0m\n\u001b[1;32m      2\u001b[0m \u001b[0;31m# small program\u001b[0m\u001b[0;34m\u001b[0m\u001b[0;34m\u001b[0m\u001b[0m\n\u001b[0;32m----> 3\u001b[0;31m \u001b[0;32mfrom\u001b[0m \u001b[0mmemory_profiler\u001b[0m \u001b[0;32mimport\u001b[0m \u001b[0mprofile\u001b[0m\u001b[0;34m\u001b[0m\u001b[0;34m\u001b[0m\u001b[0m\n\u001b[0m\u001b[1;32m      4\u001b[0m \u001b[0;34m\u001b[0m\u001b[0m\n\u001b[1;32m      5\u001b[0m \u001b[0;34m@\u001b[0m\u001b[0mprofile\u001b[0m\u001b[0;34m\u001b[0m\u001b[0;34m\u001b[0m\u001b[0m\n",
            "\u001b[0;31mModuleNotFoundError\u001b[0m: No module named 'memory_profiler'",
            "",
            "\u001b[0;31m---------------------------------------------------------------------------\u001b[0;32m\nNOTE: If your import is failing due to a missing package, you can\nmanually install dependencies using either !pip or !apt.\n\nTo view examples of installing some common dependencies, click the\n\"Open Examples\" button below.\n\u001b[0;31m---------------------------------------------------------------------------\u001b[0m\n"
          ],
          "errorDetails": {
            "actions": [
              {
                "action": "open_url",
                "actionText": "Open Examples",
                "url": "/notebooks/snippets/importing_libraries.ipynb"
              }
            ]
          }
        }
      ]
    },
    {
      "cell_type": "code",
      "source": [
        "# Q17. Write a Python program to create and write a list of numbers to a file,\n",
        "# one number per line\n",
        "# Define the filename\n",
        "filename = \"numbers.txt\"\n",
        "\n",
        "# Generate a list of numbers\n",
        "numbers = list(range(1, 101))  # Creates numbers from 1 to 100\n",
        "\n",
        "# Write numbers to the file\n",
        "with open(filename, \"w\") as file:\n",
        "    for number in numbers:\n",
        "        file.write(f\"{number}\\n\")  # Write each number followed by a newline\n",
        "\n",
        "print(f\"Numbers successfully written to {filename}.\")"
      ],
      "metadata": {
        "colab": {
          "base_uri": "https://localhost:8080/"
        },
        "id": "T3pqSU3BEgJg",
        "outputId": "b0de337f-315e-4b32-cfac-6b4a826ce446"
      },
      "execution_count": 19,
      "outputs": [
        {
          "output_type": "stream",
          "name": "stdout",
          "text": [
            "Numbers successfully written to numbers.txt.\n"
          ]
        }
      ]
    },
    {
      "cell_type": "code",
      "source": [],
      "metadata": {
        "id": "wKKt7ow8EzgU"
      },
      "execution_count": null,
      "outputs": []
    }
  ]
}